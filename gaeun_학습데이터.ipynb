{
 "cells": [
  {
   "cell_type": "code",
   "execution_count": null,
   "id": "76dca657",
   "metadata": {},
   "outputs": [],
   "source": [
    "import pandas as pd\n",
    "import json"
   ]
  },
  {
   "cell_type": "code",
   "execution_count": null,
   "id": "40c04314",
   "metadata": {},
   "outputs": [],
   "source": [
    "# CSV 파일 읽기 (파일명은 네 실제 파일명으로 바꿔줘)\n",
    "df = pd.read_csv('your_file.csv')\n",
    "\n",
    "# 식별자: 상품ID_문장ID\n",
    "df['uid'] = df['상품 ID'].astype(str) + '_' + df['문장ID'].astype(str)\n",
    "\n",
    "# 결과 담을 리스트\n",
    "formatted_data = []\n",
    "\n",
    "# uid별로 그룹화해서 처리\n",
    "for uid, group in df.groupby('uid'):\n",
    "    sentence_text = group['클렌징된 원문'].iloc[0]\n",
    "    triples = []\n",
    "\n",
    "    for _, row in group.iterrows():\n",
    "        triples.append({\n",
    "            \"aspect_span\": row['aspect span'],\n",
    "            \"opinion_span\": row['opinion span'],\n",
    "            \"polarity\": row['sentiment'].upper()\n",
    "        })\n",
    "\n",
    "    formatted_data.append({\n",
    "        \"sentence\": sentence_text,\n",
    "        \"triples\": triples\n",
    "    })\n",
    "\n",
    "# 딕셔너리 리스트 확인\n",
    "for entry in formatted_data:\n",
    "    print(entry)"
   ]
  }
 ],
 "metadata": {
  "language_info": {
   "name": "python"
  }
 },
 "nbformat": 4,
 "nbformat_minor": 5
}
