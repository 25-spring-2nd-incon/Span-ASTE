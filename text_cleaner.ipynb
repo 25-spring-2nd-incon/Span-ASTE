{
 "cells": [
  {
   "cell_type": "code",
   "execution_count": null,
   "id": "320d1439",
   "metadata": {},
   "outputs": [],
   "source": [
    "import re\n",
    "import unicodedata\n",
    "import emoji\n",
    "\n",
    "# 반복 문자 축약 대상 (초성, 자음, 특수문자)\n",
    "REPEAT_CHAR_PATTERN = re.compile(r'([ㅋㅎㅠㅜㅇㄱ.,!?])\\1{1,}', re.UNICODE)\n",
    "\n",
    "# URL, 이메일, mojibake(�), 공백 패턴\n",
    "url_pattern = re.compile(r'https?:\\/\\/[^\\s]+')\n",
    "email_pattern = re.compile(r'\\S+@\\S+')\n",
    "mojibake_pattern = re.compile(r'�+')\n",
    "\n",
    "# 이모지 제거 함수\n",
    "def remove_emojis(text):\n",
    "    return emoji.replace_emoji(text, replace='')\n",
    "\n",
    "# 반복 문자 정규화 함수\n",
    "def normalize_repeats(text, repeat_limit=2):\n",
    "    return REPEAT_CHAR_PATTERN.sub(lambda m: m.group(1) * repeat_limit, text)\n",
    "\n",
    "# 최종 클렌징 함수\n",
    "def clean_text(text: str, keep_english: bool = True) -> str:\n",
    "    # 1. 유니코드 정규화\n",
    "    text = unicodedata.normalize(\"NFKC\", text)\n",
    "\n",
    "    # 2. URL, 이메일 제거\n",
    "    text = url_pattern.sub('', text)\n",
    "    text = email_pattern.sub('', text)\n",
    "\n",
    "    # 3. mojibake 문자 제거\n",
    "    text = mojibake_pattern.sub('', text)\n",
    "\n",
    "    # 4. 반복 문자 정규화 (ㅋㅋㅋ, ㅠㅠㅠㅠ, !!!, ... → 2개로)\n",
    "    text = normalize_repeats(text, repeat_limit=2)\n",
    "\n",
    "    # 5. 이모지 제거\n",
    "    text = remove_emojis(text)\n",
    "\n",
    "    # 6. 특수문자 정리\n",
    "    if keep_english:\n",
    "        pattern = re.compile(r\"[^ .,?!/@$%~％·∼()\\x00-\\x7Fㄱ-ㅣ가-힣]+\")\n",
    "    else:\n",
    "        pattern = re.compile(r\"[^ .,?!/@$%~％·∼()ㄱ-ㅣ가-힣]+\")\n",
    "    text = pattern.sub(\" \", text)\n",
    "\n",
    "    # 7. 공백 정리\n",
    "    text = re.sub(r\"\\s+\", \" \", text).strip()\n",
    "\n",
    "    return text"
   ]
  }
 ],
 "metadata": {
  "language_info": {
   "name": "python"
  }
 },
 "nbformat": 4,
 "nbformat_minor": 5
}
