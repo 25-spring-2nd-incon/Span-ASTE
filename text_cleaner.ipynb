{
 "cells": [
  {
   "cell_type": "code",
   "execution_count": 2,
   "id": "ff85bb2d",
   "metadata": {},
   "outputs": [
    {
     "name": "stdout",
     "output_type": "stream",
     "text": [
      "Collecting emoji\n",
      "  Using cached emoji-2.14.1-py3-none-any.whl.metadata (5.7 kB)\n",
      "Using cached emoji-2.14.1-py3-none-any.whl (590 kB)\n",
      "Installing collected packages: emoji\n",
      "Successfully installed emoji-2.14.1\n",
      "Collecting xlrd\n",
      "  Using cached xlrd-2.0.1-py2.py3-none-any.whl.metadata (3.4 kB)\n",
      "Using cached xlrd-2.0.1-py2.py3-none-any.whl (96 kB)\n",
      "Installing collected packages: xlrd\n",
      "Successfully installed xlrd-2.0.1\n",
      "Requirement already satisfied: openpyxl in /opt/anaconda3/lib/python3.12/site-packages (3.1.5)\n",
      "Requirement already satisfied: et-xmlfile in /opt/anaconda3/lib/python3.12/site-packages (from openpyxl) (1.1.0)\n"
     ]
    }
   ],
   "source": [
    "!pip install emoji\n",
    "!pip install xlrd\n",
    "!pip install openpyxl"
   ]
  },
  {
   "cell_type": "code",
   "execution_count": 5,
   "id": "c5ab601f",
   "metadata": {},
   "outputs": [],
   "source": [
    "import re\n",
    "import unicodedata\n",
    "import emoji\n",
    "import pandas as pd \n",
    "\n",
    "# 반복 문자 축약 대상 (초성, 자음, 특수문자)\n",
    "REPEAT_CHAR_PATTERN = re.compile(r'([ㅋㅎㅠㅜㅇㄱ.,!?])\\1{1,}', re.UNICODE)\n",
    "\n",
    "# URL, 이메일, mojibake(�), 공백 패턴\n",
    "url_pattern = re.compile(r'https?:\\/\\/[^\\s]+')\n",
    "email_pattern = re.compile(r'\\S+@\\S+')\n",
    "mojibake_pattern = re.compile(r'�+')\n",
    "\n",
    "# 이모지 제거 함수\n",
    "def remove_emojis(text):\n",
    "    return emoji.replace_emoji(text, replace='')\n",
    "\n",
    "# 반복 문자 정규화 함수\n",
    "def normalize_repeats(text, repeat_limit=2):\n",
    "    return REPEAT_CHAR_PATTERN.sub(lambda m: m.group(1) * repeat_limit, text)\n",
    "\n",
    "# 최종 클렌징 함수\n",
    "def clean_text(text: str, keep_english: bool = True) -> str:\n",
    "    if not isinstance(text, str):  # 예외처리: 결측치 등 비문자 처리\n",
    "        return \"\"\n",
    "\n",
    "    # 1. 유니코드 정규화\n",
    "    text = unicodedata.normalize(\"NFKC\", text)\n",
    "\n",
    "    # 2. URL, 이메일 제거\n",
    "    text = url_pattern.sub('', text)\n",
    "    text = email_pattern.sub('', text)\n",
    "\n",
    "    # 3. mojibake 문자 제거\n",
    "    text = mojibake_pattern.sub('', text)\n",
    "\n",
    "    # 4. 반복 문자 정규화 (ㅋㅋㅋ → ㅋㅋ, ㅠㅠㅠㅠ → ㅠㅠ 등)\n",
    "    text = normalize_repeats(text, repeat_limit=2)\n",
    "\n",
    "    # 5. 이모지 제거\n",
    "    text = remove_emojis(text)\n",
    "\n",
    "    # 6. 특수문자 정리\n",
    "    if keep_english:\n",
    "        pattern = re.compile(r\"[^ .,?!/@$%~％·∼()\\x00-\\x7Fㅏ-ㅣㄱ-ㅎ가-힣]+\")\n",
    "    else:\n",
    "        pattern = re.compile(r\"[^ .,?!/@$%~％·∼()ㅏ-ㅣㄱ-ㅎ가-힣]+\")\n",
    "\n",
    "    # 7. 공백 정리\n",
    "    text = re.sub(r\"\\s+\", \" \", text).strip()\n",
    "\n",
    "    return text\n",
    "\n",
    "# 엑셀 클렌징 실행\n",
    "file_path = \"에이블리_데이터선정_조끼_테스트용.xlsx\"\n",
    "df = pd.read_excel(file_path, engine='openpyxl')\n",
    "\n",
    "df[\"클렌징\"] = df[\"원문\"].astype(str).apply(clean_text)\n",
    "\n",
    "# 같은 파일에 덮어쓰기\n",
    "df.to_excel(file_path, index=False)"
   ]
  },
  {
   "cell_type": "code",
   "execution_count": null,
   "id": "cd2301d3",
   "metadata": {},
   "outputs": [],
   "source": []
  }
 ],
 "metadata": {
  "kernelspec": {
   "display_name": "Python (Anaconda)",
   "language": "python",
   "name": "anaconda3"
  },
  "language_info": {
   "codemirror_mode": {
    "name": "ipython",
    "version": 3
   },
   "file_extension": ".py",
   "mimetype": "text/x-python",
   "name": "python",
   "nbconvert_exporter": "python",
   "pygments_lexer": "ipython3",
   "version": "3.12.7"
  }
 },
 "nbformat": 4,
 "nbformat_minor": 5
}
