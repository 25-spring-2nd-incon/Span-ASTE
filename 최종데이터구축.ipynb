{
 "cells": [
  {
   "cell_type": "code",
   "execution_count": 2,
   "id": "d6fec5af",
   "metadata": {},
   "outputs": [
    {
     "name": "stdout",
     "output_type": "stream",
     "text": [
      "✅ train.txt 저장 완료!\n"
     ]
    }
   ],
   "source": [
    "import pandas as pd\n",
    "import json\n",
    "\n",
    "# 1. CSV 파일 불러오기\n",
    "df = pd.read_csv(\"test.csv\", header=None)\n",
    "\n",
    "# 2. 열 이름 지정\n",
    "df.columns = [\"상품ID\", \"문장ID\", \"원문\", \"무시\", \"aspect span\", \"opinion span\", \"sentiment\"]\n",
    "\n",
    "# 3. uid(상품ID_문장ID) 생성\n",
    "df[\"uid\"] = df[\"상품ID\"].astype(str) + \"_\" + df[\"문장ID\"].astype(str)\n",
    "\n",
    "# 4. sentiment → polarity 매핑 함수\n",
    "def sentiment_to_polarity(sent):\n",
    "    if sent == 1:\n",
    "        return \"POS\"\n",
    "    elif sent == 0:\n",
    "        return \"NEG\"\n",
    "    else:\n",
    "        return \"NEU\"\n",
    "\n",
    "# 5. 최종 딕셔너리 구조 생성\n",
    "final_dict = {}\n",
    "\n",
    "for product_id, group_df in df.groupby(\"상품ID\"):\n",
    "    product_dict = {}\n",
    "\n",
    "    for uid, sub_group in group_df.groupby(\"uid\"):\n",
    "        sentence = sub_group.iloc[0][\"원문\"].strip()\n",
    "        entry = {\n",
    "            \"sentence\": sentence,\n",
    "            \"triples\": []\n",
    "        }\n",
    "\n",
    "        for _, row in sub_group.iterrows():\n",
    "            triple = {\n",
    "                \"aspect_span\": row[\"aspect span\"],\n",
    "                \"opinion_span\": row[\"opinion span\"],\n",
    "                \"polarity\": sentiment_to_polarity(row[\"sentiment\"])\n",
    "            }\n",
    "            entry[\"triples\"].append(triple)\n",
    "\n",
    "        product_dict[uid] = entry\n",
    "\n",
    "    final_dict[str(product_id)] = product_dict\n",
    "\n",
    "# 6. 결과 저장\n",
    "with open(\"train.txt\", \"w\", encoding=\"utf-8\") as f:\n",
    "    json.dump(final_dict, f, ensure_ascii=False, indent=2)\n",
    "\n",
    "print(\"✅ train.txt 저장 완료!\")\n"
   ]
  },
  {
   "cell_type": "code",
   "execution_count": null,
   "id": "60b1cacb",
   "metadata": {},
   "outputs": [],
   "source": []
  }
 ],
 "metadata": {
  "kernelspec": {
   "display_name": "base",
   "language": "python",
   "name": "python3"
  },
  "language_info": {
   "codemirror_mode": {
    "name": "ipython",
    "version": 3
   },
   "file_extension": ".py",
   "mimetype": "text/x-python",
   "name": "python",
   "nbconvert_exporter": "python",
   "pygments_lexer": "ipython3",
   "version": "3.12.7"
  }
 },
 "nbformat": 4,
 "nbformat_minor": 5
}
